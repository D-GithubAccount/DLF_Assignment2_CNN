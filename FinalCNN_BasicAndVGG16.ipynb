{
  "nbformat": 4,
  "nbformat_minor": 0,
  "metadata": {
    "colab": {
      "name": "FinalCNN_BasicAndVGG16.ipynb",
      "provenance": [],
      "collapsed_sections": []
    },
    "kernelspec": {
      "name": "python3",
      "display_name": "Python 3"
    },
    "accelerator": "GPU"
  },
  "cells": [
    {
      "cell_type": "code",
      "metadata": {
        "id": "1rN8hr9UVfyL",
        "colab_type": "code",
        "colab": {}
      },
      "source": [
        "import os\n",
        "import pickle\n",
        "import numpy as np\n",
        "import pandas as pd\n",
        "import tensorflow as tf\n",
        "from tensorflow.keras.applications.vgg16 import VGG16\n",
        "import tensorflow.keras as k\n",
        "\n",
        "from tensorflow.keras.models import Sequential\n",
        "from tensorflow.keras.layers import Dense, Flatten, Dropout\n",
        "from keras.utils.np_utils import to_categorical\n",
        "from tensorflow.keras import optimizers\n",
        "from tensorflow.keras.callbacks import ModelCheckpoint, EarlyStopping\n",
        "from tensorflow.keras.preprocessing.image import ImageDataGenerator\n",
        "from sklearn.metrics import accuracy_score\n",
        "\n",
        "from sklearn.metrics import classification_report\n",
        "from collections import Counter\n",
        "import matplotlib.pyplot as plt\n",
        "%matplotlib inline\n"
      ],
      "execution_count": 37,
      "outputs": []
    },
    {
      "cell_type": "code",
      "metadata": {
        "id": "O8ZkQbqmltcg",
        "colab_type": "code",
        "colab": {}
      },
      "source": [
        ""
      ],
      "execution_count": 37,
      "outputs": []
    },
    {
      "cell_type": "code",
      "metadata": {
        "id": "CEkUnLi3mElw",
        "colab_type": "code",
        "colab": {}
      },
      "source": [
        ""
      ],
      "execution_count": 37,
      "outputs": []
    },
    {
      "cell_type": "code",
      "metadata": {
        "id": "BXYIdDRAV8Db",
        "colab_type": "code",
        "colab": {
          "base_uri": "https://localhost:8080/",
          "height": 35
        },
        "outputId": "2388f376-96b6-4ffb-df95-cd806da88822"
      },
      "source": [
        "\n",
        "df = pd.read_html(\"https://www.cs.toronto.edu/~kriz/cifar.html\")\n",
        "cifar10_classes = df[0][0].values.tolist()\n",
        "num_classes = len(cifar10_classes)\n",
        "(x_train, y_train), (x_test, y_test) = tf.keras.datasets.cifar10.load_data()\n",
        "\n",
        "y_train = tf.keras.utils.to_categorical(y_train, num_classes)\n",
        "y_test = tf.keras.utils.to_categorical(y_test, num_classes)\n",
        "\n",
        "x_train = x_train.astype('float32')\n",
        "x_test = x_test.astype('float32')\n",
        "x_train = x_train / 255.0\n",
        "x_test = x_test / 255.0\n",
        "classes_names = np.array(cifar10_classes)\n",
        "\n",
        "x_train_df = x_train\n",
        "y_train = y_train\n",
        "x_test_df = x_test\n",
        "y_test = y_test\n",
        "\n",
        "x_train_df.shape, y_train.shape, x_test_df.shape, y_test.shape"
      ],
      "execution_count": 38,
      "outputs": [
        {
          "output_type": "execute_result",
          "data": {
            "text/plain": [
              "((50000, 32, 32, 3), (50000, 10), (10000, 32, 32, 3), (10000, 10))"
            ]
          },
          "metadata": {
            "tags": []
          },
          "execution_count": 38
        }
      ]
    },
    {
      "cell_type": "code",
      "metadata": {
        "id": "25_ou68qL9oh",
        "colab_type": "code",
        "colab": {
          "base_uri": "https://localhost:8080/",
          "height": 191
        },
        "outputId": "b911230f-a1cd-4b8e-aaeb-beda460ef0af"
      },
      "source": [
        "cifar10_classes"
      ],
      "execution_count": 39,
      "outputs": [
        {
          "output_type": "execute_result",
          "data": {
            "text/plain": [
              "['airplane',\n",
              " 'automobile',\n",
              " 'bird',\n",
              " 'cat',\n",
              " 'deer',\n",
              " 'dog',\n",
              " 'frog',\n",
              " 'horse',\n",
              " 'ship',\n",
              " 'truck']"
            ]
          },
          "metadata": {
            "tags": []
          },
          "execution_count": 39
        }
      ]
    },
    {
      "cell_type": "code",
      "metadata": {
        "id": "mPqPCte-F-cv",
        "colab_type": "code",
        "colab": {}
      },
      "source": [
        ""
      ],
      "execution_count": 39,
      "outputs": []
    },
    {
      "cell_type": "code",
      "metadata": {
        "id": "xujSnYUQWIkr",
        "colab_type": "code",
        "colab": {}
      },
      "source": [
        "def define_model():\n",
        "    weight_decay = 1e-4\n",
        "    L2 = tf.keras.regularizers.l2(weight_decay)\n",
        "\n",
        "    model = tf.keras.models.Sequential([\n",
        "        tf.keras.layers.Conv2D(filters=64, kernel_size=3, padding=\"same\", activation=\"relu\", kernel_regularizer=L2, input_shape=x_train.shape[1:]),\n",
        "        tf.keras.layers.BatchNormalization(),\n",
        "        tf.keras.layers.Conv2D(filters=64, kernel_size=3, padding=\"same\", activation=\"relu\", kernel_regularizer=L2),\n",
        "        tf.keras.layers.BatchNormalization(),\n",
        "        tf.keras.layers.MaxPool2D(pool_size=2, strides=2, padding='valid'), \n",
        "        tf.keras.layers.Dropout(0.2), \n",
        "\n",
        "        tf.keras.layers.Conv2D(filters=128, kernel_size=3, padding=\"same\", activation=\"relu\", kernel_regularizer=L2),\n",
        "        tf.keras.layers.BatchNormalization(),\n",
        "        tf.keras.layers.Conv2D(filters=128, kernel_size=3, padding=\"same\", activation=\"relu\", kernel_regularizer=L2),\n",
        "        tf.keras.layers.BatchNormalization(),\n",
        "        tf.keras.layers.MaxPool2D(pool_size=2, strides=2, padding='valid'),\n",
        "        tf.keras.layers.Dropout(0.3), \n",
        "\n",
        "        tf.keras.layers.Conv2D(filters=256, kernel_size=3, padding=\"same\", activation=\"relu\", kernel_regularizer=L2),\n",
        "        tf.keras.layers.BatchNormalization(),\n",
        "        tf.keras.layers.Conv2D(filters=256, kernel_size=3, padding=\"same\", activation=\"relu\", kernel_regularizer=L2),\n",
        "        tf.keras.layers.BatchNormalization(),\n",
        "        tf.keras.layers.MaxPool2D(pool_size=2, strides=2, padding='valid'),\n",
        "        tf.keras.layers.Dropout(0.4), \n",
        "\n",
        "        tf.keras.layers.Flatten(),\n",
        "        tf.keras.layers.Dense(units=128, activation='relu'), \n",
        "        tf.keras.layers.BatchNormalization(),\n",
        "        tf.keras.layers.Dropout(0.2),\n",
        "        tf.keras.layers.Dense(units=128, activation='relu'), \n",
        "        tf.keras.layers.BatchNormalization(),\n",
        "        tf.keras.layers.Dropout(0.3),\n",
        "        tf.keras.layers.Dense(units=128, activation='relu'), \n",
        "        tf.keras.layers.BatchNormalization(),\n",
        "        tf.keras.layers.Dropout(0.4),\n",
        "        tf.keras.layers.Dense(units=128, activation='relu'), \n",
        "        tf.keras.layers.BatchNormalization(),\n",
        "        tf.keras.layers.Dropout(0.5),\n",
        "        tf.keras.layers.Dense(units=10, activation='softmax')\n",
        "    ])\n",
        "\n",
        "    opt = tf.keras.optimizers.RMSprop(lr=0.001, decay=1e-6)\n",
        "    model.compile(optimizer=opt, loss='categorical_crossentropy', metrics=['accuracy'])\n",
        "\n",
        "    return model"
      ],
      "execution_count": 40,
      "outputs": []
    },
    {
      "cell_type": "code",
      "metadata": {
        "id": "gjxRtI_p3D52",
        "colab_type": "code",
        "colab": {}
      },
      "source": [
        ""
      ],
      "execution_count": 40,
      "outputs": []
    },
    {
      "cell_type": "code",
      "metadata": {
        "id": "Mo8UoKYLWsTO",
        "colab_type": "code",
        "colab": {}
      },
      "source": [
        "#sample_training_images, _ = next(tf.keras.preprocessing.image.ImageDataGenerator().flow(x_train_df, y_train, batch_size=64))\n",
        "#images_arr = sample_training_images[:5]\n",
        "#fig, axes = plt.subplots(1, 5, figsize=(20,20))\n",
        "#axes = axes.flatten()\n",
        "#for img, ax in zip( images_arr, axes):\n",
        "  #ax.imshow(img)\n",
        "  #ax.axis('off')\n",
        "  #plt.tight_layout()\n",
        "  #plt.show()\n"
      ],
      "execution_count": 41,
      "outputs": []
    },
    {
      "cell_type": "code",
      "metadata": {
        "id": "rR-s7XeGWxyk",
        "colab_type": "code",
        "colab": {}
      },
      "source": [
        "mean = np.mean(x_train_df, axis=(0,1,2,3))\n",
        "std = np.std(x_train_df, axis=(0,1,2,3))\n",
        "x_train = (x_train_df - mean)/(std + 1e-7)\n",
        "x_test = (x_test_df - mean)/(std + 1e-7)\n",
        "  "
      ],
      "execution_count": 42,
      "outputs": []
    },
    {
      "cell_type": "code",
      "metadata": {
        "id": "aYgBnG8zWyak",
        "colab_type": "code",
        "colab": {}
      },
      "source": [
        "train_datagen = tf.keras.preprocessing.image.ImageDataGenerator(\n",
        "    width_shift_range=0.1,\n",
        "    height_shift_range=0.1,\n",
        "    horizontal_flip=True,\n",
        "    rotation_range=15\n",
        ")\n",
        "\n",
        "batch_size = 64\n",
        "\n",
        "train_generator = train_datagen.flow(x_train, y_train, batch_size=batch_size)"
      ],
      "execution_count": 43,
      "outputs": []
    },
    {
      "cell_type": "code",
      "metadata": {
        "id": "XgjNDaGsXAX1",
        "colab_type": "code",
        "colab": {}
      },
      "source": [
        "reduce_learning_rate = tf.keras.callbacks.ReduceLROnPlateau(\n",
        "    monitor='val_loss', factor=0.5, patience=5, verbose=1, \n",
        "    mode='auto', min_delta=1e-10, cooldown=0, min_lr=0\n",
        ")\n",
        "\n",
        "early_stopping = tf.keras.callbacks.EarlyStopping(\n",
        "    monitor='val_loss', min_delta=0, patience=12, verbose=1, mode='auto',\n",
        "    baseline=None, restore_best_weights=False\n",
        ")\n"
      ],
      "execution_count": 44,
      "outputs": []
    },
    {
      "cell_type": "code",
      "metadata": {
        "id": "6IxS0pu7ZPwg",
        "colab_type": "code",
        "colab": {}
      },
      "source": [
        "csv_logger = tf.keras.callbacks.CSVLogger(\n",
        "    'cifar10.epoch.results.csv', separator='|', append=False)\n",
        "\n",
        "model_checkpoint = tf.keras.callbacks.ModelCheckpoint(\n",
        "    \"cifar10.partial.hdf5\", save_weights_only=True, mode='auto', \n",
        "    save_freq='epoch', verbose=0\n",
        ")"
      ],
      "execution_count": 45,
      "outputs": []
    },
    {
      "cell_type": "code",
      "metadata": {
        "id": "6qWzqNc1ZSBW",
        "colab_type": "code",
        "colab": {
          "base_uri": "https://localhost:8080/",
          "height": 1000
        },
        "outputId": "1aa81468-4fe2-47b8-d570-9dc1000fffe7"
      },
      "source": [
        "model = define_model()\n",
        "model.summary()"
      ],
      "execution_count": 46,
      "outputs": [
        {
          "output_type": "stream",
          "text": [
            "Model: \"sequential_2\"\n",
            "_________________________________________________________________\n",
            "Layer (type)                 Output Shape              Param #   \n",
            "=================================================================\n",
            "conv2d_6 (Conv2D)            (None, 32, 32, 64)        1792      \n",
            "_________________________________________________________________\n",
            "batch_normalization_10 (Batc (None, 32, 32, 64)        256       \n",
            "_________________________________________________________________\n",
            "conv2d_7 (Conv2D)            (None, 32, 32, 64)        36928     \n",
            "_________________________________________________________________\n",
            "batch_normalization_11 (Batc (None, 32, 32, 64)        256       \n",
            "_________________________________________________________________\n",
            "max_pooling2d_3 (MaxPooling2 (None, 16, 16, 64)        0         \n",
            "_________________________________________________________________\n",
            "dropout_9 (Dropout)          (None, 16, 16, 64)        0         \n",
            "_________________________________________________________________\n",
            "conv2d_8 (Conv2D)            (None, 16, 16, 128)       73856     \n",
            "_________________________________________________________________\n",
            "batch_normalization_12 (Batc (None, 16, 16, 128)       512       \n",
            "_________________________________________________________________\n",
            "conv2d_9 (Conv2D)            (None, 16, 16, 128)       147584    \n",
            "_________________________________________________________________\n",
            "batch_normalization_13 (Batc (None, 16, 16, 128)       512       \n",
            "_________________________________________________________________\n",
            "max_pooling2d_4 (MaxPooling2 (None, 8, 8, 128)         0         \n",
            "_________________________________________________________________\n",
            "dropout_10 (Dropout)         (None, 8, 8, 128)         0         \n",
            "_________________________________________________________________\n",
            "conv2d_10 (Conv2D)           (None, 8, 8, 256)         295168    \n",
            "_________________________________________________________________\n",
            "batch_normalization_14 (Batc (None, 8, 8, 256)         1024      \n",
            "_________________________________________________________________\n",
            "conv2d_11 (Conv2D)           (None, 8, 8, 256)         590080    \n",
            "_________________________________________________________________\n",
            "batch_normalization_15 (Batc (None, 8, 8, 256)         1024      \n",
            "_________________________________________________________________\n",
            "max_pooling2d_5 (MaxPooling2 (None, 4, 4, 256)         0         \n",
            "_________________________________________________________________\n",
            "dropout_11 (Dropout)         (None, 4, 4, 256)         0         \n",
            "_________________________________________________________________\n",
            "flatten_2 (Flatten)          (None, 4096)              0         \n",
            "_________________________________________________________________\n",
            "dense_5 (Dense)              (None, 128)               524416    \n",
            "_________________________________________________________________\n",
            "batch_normalization_16 (Batc (None, 128)               512       \n",
            "_________________________________________________________________\n",
            "dropout_12 (Dropout)         (None, 128)               0         \n",
            "_________________________________________________________________\n",
            "dense_6 (Dense)              (None, 128)               16512     \n",
            "_________________________________________________________________\n",
            "batch_normalization_17 (Batc (None, 128)               512       \n",
            "_________________________________________________________________\n",
            "dropout_13 (Dropout)         (None, 128)               0         \n",
            "_________________________________________________________________\n",
            "dense_7 (Dense)              (None, 128)               16512     \n",
            "_________________________________________________________________\n",
            "batch_normalization_18 (Batc (None, 128)               512       \n",
            "_________________________________________________________________\n",
            "dropout_14 (Dropout)         (None, 128)               0         \n",
            "_________________________________________________________________\n",
            "dense_8 (Dense)              (None, 128)               16512     \n",
            "_________________________________________________________________\n",
            "batch_normalization_19 (Batc (None, 128)               512       \n",
            "_________________________________________________________________\n",
            "dropout_15 (Dropout)         (None, 128)               0         \n",
            "_________________________________________________________________\n",
            "dense_9 (Dense)              (None, 10)                1290      \n",
            "=================================================================\n",
            "Total params: 1,726,282\n",
            "Trainable params: 1,723,466\n",
            "Non-trainable params: 2,816\n",
            "_________________________________________________________________\n"
          ],
          "name": "stdout"
        }
      ]
    },
    {
      "cell_type": "code",
      "metadata": {
        "id": "fNZJc1y_ZTUW",
        "colab_type": "code",
        "colab": {
          "base_uri": "https://localhost:8080/",
          "height": 711
        },
        "outputId": "117e299f-cfb7-4e8b-b79a-3d728e2c6a2d"
      },
      "source": [
        "epochs = 20\n",
        "\n",
        "history = model.fit(\n",
        "    train_generator, \n",
        "    steps_per_epoch=x_train.shape[0]//batch_size, \n",
        "    epochs=epochs,  \n",
        "    validation_data=(x_test, y_test), \n",
        "    callbacks=[csv_logger, reduce_learning_rate, early_stopping, model_checkpoint],\n",
        "    verbose=1\n",
        ")"
      ],
      "execution_count": 47,
      "outputs": [
        {
          "output_type": "stream",
          "text": [
            "Epoch 1/20\n",
            "781/781 [==============================] - 51s 66ms/step - loss: 2.0993 - accuracy: 0.3125 - val_loss: 1.6760 - val_accuracy: 0.4925\n",
            "Epoch 2/20\n",
            "781/781 [==============================] - 50s 65ms/step - loss: 1.3931 - accuracy: 0.5397 - val_loss: 1.1455 - val_accuracy: 0.6278\n",
            "Epoch 3/20\n",
            "781/781 [==============================] - 51s 65ms/step - loss: 1.1905 - accuracy: 0.6293 - val_loss: 0.9736 - val_accuracy: 0.7085\n",
            "Epoch 4/20\n",
            "781/781 [==============================] - 51s 65ms/step - loss: 1.0897 - accuracy: 0.6802 - val_loss: 0.9417 - val_accuracy: 0.7291\n",
            "Epoch 5/20\n",
            "781/781 [==============================] - 51s 65ms/step - loss: 1.0234 - accuracy: 0.7143 - val_loss: 0.8831 - val_accuracy: 0.7608\n",
            "Epoch 6/20\n",
            "781/781 [==============================] - 50s 64ms/step - loss: 0.9817 - accuracy: 0.7355 - val_loss: 0.9081 - val_accuracy: 0.7601\n",
            "Epoch 7/20\n",
            "781/781 [==============================] - 51s 65ms/step - loss: 0.9443 - accuracy: 0.7540 - val_loss: 0.8595 - val_accuracy: 0.7838\n",
            "Epoch 8/20\n",
            "781/781 [==============================] - 51s 65ms/step - loss: 0.9196 - accuracy: 0.7688 - val_loss: 0.7739 - val_accuracy: 0.8108\n",
            "Epoch 9/20\n",
            "781/781 [==============================] - 51s 65ms/step - loss: 0.9072 - accuracy: 0.7789 - val_loss: 0.8571 - val_accuracy: 0.7967\n",
            "Epoch 10/20\n",
            "781/781 [==============================] - 51s 65ms/step - loss: 0.8925 - accuracy: 0.7852 - val_loss: 0.8801 - val_accuracy: 0.7938\n",
            "Epoch 11/20\n",
            "781/781 [==============================] - 51s 65ms/step - loss: 0.8910 - accuracy: 0.7882 - val_loss: 0.7916 - val_accuracy: 0.8192\n",
            "Epoch 12/20\n",
            "781/781 [==============================] - 51s 65ms/step - loss: 0.8724 - accuracy: 0.7983 - val_loss: 0.7634 - val_accuracy: 0.8278\n",
            "Epoch 13/20\n",
            "781/781 [==============================] - 51s 65ms/step - loss: 0.8617 - accuracy: 0.8017 - val_loss: 0.7566 - val_accuracy: 0.8349\n",
            "Epoch 14/20\n",
            "781/781 [==============================] - 50s 64ms/step - loss: 0.8462 - accuracy: 0.8090 - val_loss: 0.7519 - val_accuracy: 0.8344\n",
            "Epoch 15/20\n",
            "781/781 [==============================] - 51s 65ms/step - loss: 0.8496 - accuracy: 0.8098 - val_loss: 0.7998 - val_accuracy: 0.8232\n",
            "Epoch 16/20\n",
            "781/781 [==============================] - 50s 64ms/step - loss: 0.8361 - accuracy: 0.8165 - val_loss: 0.8443 - val_accuracy: 0.8090\n",
            "Epoch 17/20\n",
            "781/781 [==============================] - 50s 64ms/step - loss: 0.8314 - accuracy: 0.8195 - val_loss: 0.7598 - val_accuracy: 0.8347\n",
            "Epoch 18/20\n",
            "781/781 [==============================] - 50s 64ms/step - loss: 0.8189 - accuracy: 0.8237 - val_loss: 0.7303 - val_accuracy: 0.8438\n",
            "Epoch 19/20\n",
            "781/781 [==============================] - 50s 65ms/step - loss: 0.8211 - accuracy: 0.8248 - val_loss: 0.8559 - val_accuracy: 0.8191\n",
            "Epoch 20/20\n",
            "781/781 [==============================] - 50s 65ms/step - loss: 0.8222 - accuracy: 0.8232 - val_loss: 0.7942 - val_accuracy: 0.8317\n"
          ],
          "name": "stdout"
        }
      ]
    },
    {
      "cell_type": "code",
      "metadata": {
        "id": "mAOY_T_HZf2g",
        "colab_type": "code",
        "colab": {
          "base_uri": "https://localhost:8080/",
          "height": 35
        },
        "outputId": "96816249-097f-4d89-d9cd-6a5ca3e588f1"
      },
      "source": [
        "_, acc = model.evaluate(x_test, y_test, verbose=0)\n",
        "print('> %.3f' % (acc * 100.0))"
      ],
      "execution_count": 48,
      "outputs": [
        {
          "output_type": "stream",
          "text": [
            "> 83.170\n"
          ],
          "name": "stdout"
        }
      ]
    },
    {
      "cell_type": "code",
      "metadata": {
        "id": "xA9taQ-rZhlA",
        "colab_type": "code",
        "colab": {}
      },
      "source": [
        "model.save('cifar10.h5', overwrite=True, include_optimizer=True, save_format='h5')"
      ],
      "execution_count": 49,
      "outputs": []
    },
    {
      "cell_type": "code",
      "metadata": {
        "id": "APICO0ylZjHJ",
        "colab_type": "code",
        "colab": {
          "base_uri": "https://localhost:8080/",
          "height": 181
        },
        "outputId": "ceadac42-13ae-4fba-927c-1f8841ed86df"
      },
      "source": [
        "plt.subplot(211)\n",
        "plt.title('Cross Entropy Loss')\n",
        "plt.plot(history.history['loss'], color='blue', label='train')\n",
        "plt.plot(history.history['val_loss'], color='orange', label='test')\n",
        "\n"
      ],
      "execution_count": 50,
      "outputs": [
        {
          "output_type": "execute_result",
          "data": {
            "text/plain": [
              "[<matplotlib.lines.Line2D at 0x7f8f0e419358>]"
            ]
          },
          "metadata": {
            "tags": []
          },
          "execution_count": 50
        },
        {
          "output_type": "display_data",
          "data": {
            "image/png": "[encoded data removed]",
            "text/plain": [
              "<Figure size 432x288 with 1 Axes>"
            ]
          },
          "metadata": {
            "tags": [],
            "needs_background": "light"
          }
        }
      ]
    },
    {
      "cell_type": "code",
      "metadata": {
        "id": "0K4qBl-PMg20",
        "colab_type": "code",
        "colab": {
          "base_uri": "https://localhost:8080/",
          "height": 181
        },
        "outputId": "a22d6fd0-003c-4fc3-df70-e7ce1d5ef78f"
      },
      "source": [
        "plt.subplot(212)\n",
        "plt.title('Classification Accuracy')\n",
        "plt.plot(history.history['accuracy'], color='blue', label='train')\n",
        "plt.plot(history.history['val_accuracy'], color='orange', label='test')"
      ],
      "execution_count": 51,
      "outputs": [
        {
          "output_type": "execute_result",
          "data": {
            "text/plain": [
              "[<matplotlib.lines.Line2D at 0x7f8f0e3fa2b0>]"
            ]
          },
          "metadata": {
            "tags": []
          },
          "execution_count": 51
        },
        {
          "output_type": "display_data",
          "data": {
            "image/png": "[encoded data removed]",
            "text/plain": [
              "<Figure size 432x288 with 1 Axes>"
            ]
          },
          "metadata": {
            "tags": [],
            "needs_background": "light"
          }
        }
      ]
    },
    {
      "cell_type": "code",
      "metadata": {
        "id": "HRvQG-X-ZktI",
        "colab_type": "code",
        "colab": {
          "base_uri": "https://localhost:8080/",
          "height": 202
        },
        "outputId": "165d9da3-ad32-4d15-86a7-0f7cd76efee6"
      },
      "source": [
        "res = pd.read_csv('cifar10.epoch.results.csv', sep='|')\n",
        "res.tail()"
      ],
      "execution_count": 52,
      "outputs": [
        {
          "output_type": "execute_result",
          "data": {
            "text/html": [
              "<div>\n",
              "<style scoped>\n",
              "    .dataframe tbody tr th:only-of-type {\n",
              "        vertical-align: middle;\n",
              "    }\n",
              "\n",
              "    .dataframe tbody tr th {\n",
              "        vertical-align: top;\n",
              "    }\n",
              "\n",
              "    .dataframe thead th {\n",
              "        text-align: right;\n",
              "    }\n",
              "</style>\n",
              "<table border=\"1\" class=\"dataframe\">\n",
              "  <thead>\n",
              "    <tr style=\"text-align: right;\">\n",
              "      <th></th>\n",
              "      <th>epoch</th>\n",
              "      <th>accuracy</th>\n",
              "      <th>loss</th>\n",
              "      <th>val_accuracy</th>\n",
              "      <th>val_loss</th>\n",
              "    </tr>\n",
              "  </thead>\n",
              "  <tbody>\n",
              "    <tr>\n",
              "      <th>15</th>\n",
              "      <td>15</td>\n",
              "      <td>0.816505</td>\n",
              "      <td>0.836074</td>\n",
              "      <td>0.8090</td>\n",
              "      <td>0.844260</td>\n",
              "    </tr>\n",
              "    <tr>\n",
              "      <th>16</th>\n",
              "      <td>16</td>\n",
              "      <td>0.819529</td>\n",
              "      <td>0.831432</td>\n",
              "      <td>0.8347</td>\n",
              "      <td>0.759763</td>\n",
              "    </tr>\n",
              "    <tr>\n",
              "      <th>17</th>\n",
              "      <td>17</td>\n",
              "      <td>0.823734</td>\n",
              "      <td>0.818897</td>\n",
              "      <td>0.8438</td>\n",
              "      <td>0.730261</td>\n",
              "    </tr>\n",
              "    <tr>\n",
              "      <th>18</th>\n",
              "      <td>18</td>\n",
              "      <td>0.824816</td>\n",
              "      <td>0.821056</td>\n",
              "      <td>0.8191</td>\n",
              "      <td>0.855858</td>\n",
              "    </tr>\n",
              "    <tr>\n",
              "      <th>19</th>\n",
              "      <td>19</td>\n",
              "      <td>0.823214</td>\n",
              "      <td>0.822232</td>\n",
              "      <td>0.8317</td>\n",
              "      <td>0.794152</td>\n",
              "    </tr>\n",
              "  </tbody>\n",
              "</table>\n",
              "</div>"
            ],
            "text/plain": [
              "    epoch  accuracy      loss  val_accuracy  val_loss\n",
              "15     15  0.816505  0.836074        0.8090  0.844260\n",
              "16     16  0.819529  0.831432        0.8347  0.759763\n",
              "17     17  0.823734  0.818897        0.8438  0.730261\n",
              "18     18  0.824816  0.821056        0.8191  0.855858\n",
              "19     19  0.823214  0.822232        0.8317  0.794152"
            ]
          },
          "metadata": {
            "tags": []
          },
          "execution_count": 52
        }
      ]
    },
    {
      "cell_type": "code",
      "metadata": {
        "id": "PIh7OZKMZnKI",
        "colab_type": "code",
        "colab": {
          "base_uri": "https://localhost:8080/",
          "height": 1000
        },
        "outputId": "7ee36736-cfe8-4c88-deae-5742abecaeae"
      },
      "source": [
        "model_load_tf = tf.keras.models.load_model('cifar10.h5')\n",
        "model_load_tf.summary()"
      ],
      "execution_count": 53,
      "outputs": [
        {
          "output_type": "stream",
          "text": [
            "Model: \"sequential_2\"\n",
            "_________________________________________________________________\n",
            "Layer (type)                 Output Shape              Param #   \n",
            "=================================================================\n",
            "conv2d_6 (Conv2D)            (None, 32, 32, 64)        1792      \n",
            "_________________________________________________________________\n",
            "batch_normalization_10 (Batc (None, 32, 32, 64)        256       \n",
            "_________________________________________________________________\n",
            "conv2d_7 (Conv2D)            (None, 32, 32, 64)        36928     \n",
            "_________________________________________________________________\n",
            "batch_normalization_11 (Batc (None, 32, 32, 64)        256       \n",
            "_________________________________________________________________\n",
            "max_pooling2d_3 (MaxPooling2 (None, 16, 16, 64)        0         \n",
            "_________________________________________________________________\n",
            "dropout_9 (Dropout)          (None, 16, 16, 64)        0         \n",
            "_________________________________________________________________\n",
            "conv2d_8 (Conv2D)            (None, 16, 16, 128)       73856     \n",
            "_________________________________________________________________\n",
            "batch_normalization_12 (Batc (None, 16, 16, 128)       512       \n",
            "_________________________________________________________________\n",
            "conv2d_9 (Conv2D)            (None, 16, 16, 128)       147584    \n",
            "_________________________________________________________________\n",
            "batch_normalization_13 (Batc (None, 16, 16, 128)       512       \n",
            "_________________________________________________________________\n",
            "max_pooling2d_4 (MaxPooling2 (None, 8, 8, 128)         0         \n",
            "_________________________________________________________________\n",
            "dropout_10 (Dropout)         (None, 8, 8, 128)         0         \n",
            "_________________________________________________________________\n",
            "conv2d_10 (Conv2D)           (None, 8, 8, 256)         295168    \n",
            "_________________________________________________________________\n",
            "batch_normalization_14 (Batc (None, 8, 8, 256)         1024      \n",
            "_________________________________________________________________\n",
            "conv2d_11 (Conv2D)           (None, 8, 8, 256)         590080    \n",
            "_________________________________________________________________\n",
            "batch_normalization_15 (Batc (None, 8, 8, 256)         1024      \n",
            "_________________________________________________________________\n",
            "max_pooling2d_5 (MaxPooling2 (None, 4, 4, 256)         0         \n",
            "_________________________________________________________________\n",
            "dropout_11 (Dropout)         (None, 4, 4, 256)         0         \n",
            "_________________________________________________________________\n",
            "flatten_2 (Flatten)          (None, 4096)              0         \n",
            "_________________________________________________________________\n",
            "dense_5 (Dense)              (None, 128)               524416    \n",
            "_________________________________________________________________\n",
            "batch_normalization_16 (Batc (None, 128)               512       \n",
            "_________________________________________________________________\n",
            "dropout_12 (Dropout)         (None, 128)               0         \n",
            "_________________________________________________________________\n",
            "dense_6 (Dense)              (None, 128)               16512     \n",
            "_________________________________________________________________\n",
            "batch_normalization_17 (Batc (None, 128)               512       \n",
            "_________________________________________________________________\n",
            "dropout_13 (Dropout)         (None, 128)               0         \n",
            "_________________________________________________________________\n",
            "dense_7 (Dense)              (None, 128)               16512     \n",
            "_________________________________________________________________\n",
            "batch_normalization_18 (Batc (None, 128)               512       \n",
            "_________________________________________________________________\n",
            "dropout_14 (Dropout)         (None, 128)               0         \n",
            "_________________________________________________________________\n",
            "dense_8 (Dense)              (None, 128)               16512     \n",
            "_________________________________________________________________\n",
            "batch_normalization_19 (Batc (None, 128)               512       \n",
            "_________________________________________________________________\n",
            "dropout_15 (Dropout)         (None, 128)               0         \n",
            "_________________________________________________________________\n",
            "dense_9 (Dense)              (None, 10)                1290      \n",
            "=================================================================\n",
            "Total params: 1,726,282\n",
            "Trainable params: 1,723,466\n",
            "Non-trainable params: 2,816\n",
            "_________________________________________________________________\n"
          ],
          "name": "stdout"
        }
      ]
    },
    {
      "cell_type": "code",
      "metadata": {
        "id": "epnkTKBqZpRM",
        "colab_type": "code",
        "colab": {
          "base_uri": "https://localhost:8080/",
          "height": 52
        },
        "outputId": "edb0a774-5be7-4477-9c64-c957f002c8d1"
      },
      "source": [
        "test_loss, test_acc = model_load_tf.evaluate(x_test, y_test)\n",
        "print(f\"Accuracy: {test_acc} Loss: {test_loss}\")"
      ],
      "execution_count": 54,
      "outputs": [
        {
          "output_type": "stream",
          "text": [
            "313/313 [==============================] - 3s 9ms/step - loss: 0.7942 - accuracy: 0.8317\n",
            "Accuracy: 0.8317000269889832 Loss: 0.7941516637802124\n"
          ],
          "name": "stdout"
        }
      ]
    },
    {
      "cell_type": "code",
      "metadata": {
        "id": "xFnSyT_CZq4z",
        "colab_type": "code",
        "colab": {
          "base_uri": "https://localhost:8080/",
          "height": 312
        },
        "outputId": "7644c5df-82bc-4583-df4e-8c22ee0ef57c"
      },
      "source": [
        "Y_test = np.argmax(y_test, axis=1)\n",
        "y_pred = model.predict_classes(x_test)\n",
        "print(classification_report(Y_test, y_pred))"
      ],
      "execution_count": 55,
      "outputs": [
        {
          "output_type": "stream",
          "text": [
            "              precision    recall  f1-score   support\n",
            "\n",
            "           0       0.89      0.83      0.86      1000\n",
            "           1       0.83      0.96      0.89      1000\n",
            "           2       0.80      0.79      0.80      1000\n",
            "           3       0.91      0.50      0.64      1000\n",
            "           4       0.81      0.84      0.83      1000\n",
            "           5       0.76      0.83      0.79      1000\n",
            "           6       0.69      0.97      0.81      1000\n",
            "           7       0.94      0.83      0.88      1000\n",
            "           8       0.94      0.85      0.89      1000\n",
            "           9       0.86      0.91      0.89      1000\n",
            "\n",
            "    accuracy                           0.83     10000\n",
            "   macro avg       0.84      0.83      0.83     10000\n",
            "weighted avg       0.84      0.83      0.83     10000\n",
            "\n"
          ],
          "name": "stdout"
        }
      ]
    },
    {
      "cell_type": "markdown",
      "metadata": {
        "id": "B6cYvlksmHJI",
        "colab_type": "text"
      },
      "source": [
        "#VGG16"
      ]
    },
    {
      "cell_type": "code",
      "metadata": {
        "id": "nnwgXJr7l6k8",
        "colab_type": "code",
        "colab": {
          "base_uri": "https://localhost:8080/",
          "height": 191
        },
        "outputId": "5e30c4e8-1b3a-4f84-bba1-0a1017f8972a"
      },
      "source": [
        "#  Loading CIFAR10 data\n",
        "\n",
        "(X_train, y_train), (X_test, y_test) = k.datasets.cifar10.load_data()\n",
        "\n",
        "print(\"******************\")\n",
        "print(X_train.shape)\n",
        "print(y_train.shape)\n",
        "print(X_test.shape)\n",
        "print(y_test.shape)\n",
        " \n",
        "# Convert class vectors to binary class matrices using one hot encoding\n",
        "y_train_ohe = to_categorical(y_train, num_classes = 10)\n",
        "y_test_ohe = to_categorical(y_test, num_classes = 10)\n",
        "\n",
        "# Data normalization\n",
        "X_train = X_train.astype('float32')\n",
        "X_test = X_test.astype('float32')\n",
        "X_train  /= 255\n",
        "X_test /= 255\n",
        "\n",
        "print(\"******************\")\n",
        "print(X_train.shape)\n",
        "print(y_train_ohe.shape)\n",
        "print(X_test.shape)\n",
        "print(y_test_ohe.shape)\n",
        "\n"
      ],
      "execution_count": 56,
      "outputs": [
        {
          "output_type": "stream",
          "text": [
            "******************\n",
            "(50000, 32, 32, 3)\n",
            "(50000, 1)\n",
            "(10000, 32, 32, 3)\n",
            "(10000, 1)\n",
            "******************\n",
            "(50000, 32, 32, 3)\n",
            "(50000, 10)\n",
            "(10000, 32, 32, 3)\n",
            "(10000, 10)\n"
          ],
          "name": "stdout"
        }
      ]
    },
    {
      "cell_type": "code",
      "metadata": {
        "id": "vBX5D1zOjrgU",
        "colab_type": "code",
        "colab": {
          "base_uri": "https://localhost:8080/",
          "height": 988
        },
        "outputId": "2689b407-2eba-4ea1-cc6d-341b34e4404d"
      },
      "source": [
        "# Using VGG16 model, with weights pre-trained on ImageNet.\n",
        "\n",
        "vgg16_model = VGG16(weights='imagenet',\n",
        "                    include_top=False, \n",
        "                    classes=10,\n",
        "                    input_shape=(32,32,3)# input: 32x32 images with 3 channels -> (32, 32, 3) tensors.\n",
        "                   )\n",
        "\n",
        "#Define the sequential model and add th VGG's layers to it\n",
        "model = Sequential()\n",
        "for layer in vgg16_model.layers:\n",
        "    model.add(layer)\n",
        "\n",
        "# Adding hiddens  and output layer to our model\n",
        "\n",
        "from tensorflow.keras.layers import Dense, Flatten, Dropout\n",
        "model.add(Flatten())\n",
        "model.add(Dense(512, activation='relu', name='hidden1'))\n",
        "model.add(Dropout(0.4))\n",
        "model.add(Dense(256, activation='relu', name='hidden2'))\n",
        "model.add(Dropout(0.4))\n",
        "model.add(Dense(10, activation='softmax', name='predictions'))\n",
        "\n",
        "model.summary()"
      ],
      "execution_count": 57,
      "outputs": [
        {
          "output_type": "stream",
          "text": [
            "Model: \"sequential_3\"\n",
            "_________________________________________________________________\n",
            "Layer (type)                 Output Shape              Param #   \n",
            "=================================================================\n",
            "block1_conv1 (Conv2D)        (None, 32, 32, 64)        1792      \n",
            "_________________________________________________________________\n",
            "block1_conv2 (Conv2D)        (None, 32, 32, 64)        36928     \n",
            "_________________________________________________________________\n",
            "block1_pool (MaxPooling2D)   (None, 16, 16, 64)        0         \n",
            "_________________________________________________________________\n",
            "block2_conv1 (Conv2D)        (None, 16, 16, 128)       73856     \n",
            "_________________________________________________________________\n",
            "block2_conv2 (Conv2D)        (None, 16, 16, 128)       147584    \n",
            "_________________________________________________________________\n",
            "block2_pool (MaxPooling2D)   (None, 8, 8, 128)         0         \n",
            "_________________________________________________________________\n",
            "block3_conv1 (Conv2D)        (None, 8, 8, 256)         295168    \n",
            "_________________________________________________________________\n",
            "block3_conv2 (Conv2D)        (None, 8, 8, 256)         590080    \n",
            "_________________________________________________________________\n",
            "block3_conv3 (Conv2D)        (None, 8, 8, 256)         590080    \n",
            "_________________________________________________________________\n",
            "block3_pool (MaxPooling2D)   (None, 4, 4, 256)         0         \n",
            "_________________________________________________________________\n",
            "block4_conv1 (Conv2D)        (None, 4, 4, 512)         1180160   \n",
            "_________________________________________________________________\n",
            "block4_conv2 (Conv2D)        (None, 4, 4, 512)         2359808   \n",
            "_________________________________________________________________\n",
            "block4_conv3 (Conv2D)        (None, 4, 4, 512)         2359808   \n",
            "_________________________________________________________________\n",
            "block4_pool (MaxPooling2D)   (None, 2, 2, 512)         0         \n",
            "_________________________________________________________________\n",
            "block5_conv1 (Conv2D)        (None, 2, 2, 512)         2359808   \n",
            "_________________________________________________________________\n",
            "block5_conv2 (Conv2D)        (None, 2, 2, 512)         2359808   \n",
            "_________________________________________________________________\n",
            "block5_conv3 (Conv2D)        (None, 2, 2, 512)         2359808   \n",
            "_________________________________________________________________\n",
            "block5_pool (MaxPooling2D)   (None, 1, 1, 512)         0         \n",
            "_________________________________________________________________\n",
            "flatten_3 (Flatten)          (None, 512)               0         \n",
            "_________________________________________________________________\n",
            "hidden1 (Dense)              (None, 512)               262656    \n",
            "_________________________________________________________________\n",
            "dropout_16 (Dropout)         (None, 512)               0         \n",
            "_________________________________________________________________\n",
            "hidden2 (Dense)              (None, 256)               131328    \n",
            "_________________________________________________________________\n",
            "dropout_17 (Dropout)         (None, 256)               0         \n",
            "_________________________________________________________________\n",
            "predictions (Dense)          (None, 10)                2570      \n",
            "=================================================================\n",
            "Total params: 15,111,242\n",
            "Trainable params: 15,111,242\n",
            "Non-trainable params: 0\n",
            "_________________________________________________________________\n"
          ],
          "name": "stdout"
        }
      ]
    },
    {
      "cell_type": "code",
      "metadata": {
        "id": "9uYG42GcmAXH",
        "colab_type": "code",
        "colab": {}
      },
      "source": [
        "# CNN Trained on training data\n",
        "\n",
        "# initiate SGD optimizer\n",
        "sgd = optimizers.SGD(lr=0.001, momentum=0.9)\n",
        "\n",
        "# For a multi-class classification problem\n",
        "model.compile(loss='categorical_crossentropy',optimizer= sgd,metrics=['accuracy'])\n",
        "\n",
        "\n",
        "es = EarlyStopping(patience=5, monitor='val_accuracy', mode='max')\n",
        "mc = ModelCheckpoint('./weights.h5', monitor='val_accuracy', save_best_only=True, mode='max')\n"
      ],
      "execution_count": 58,
      "outputs": []
    },
    {
      "cell_type": "code",
      "metadata": {
        "id": "3z5b6YqvmNQ_",
        "colab_type": "code",
        "colab": {}
      },
      "source": [
        "# initialize the number of epochs and batch size\n",
        "EPOCHS = 20\n",
        "batch_sze = 64\n",
        "\n",
        "# construct the training image generator for data augmentation\n",
        "aug = ImageDataGenerator(rotation_range=20, zoom_range=0.15, width_shift_range=0.2, height_shift_range=0.2, shear_range=0.15,\n",
        "                        horizontal_flip=True, fill_mode=\"nearest\")\n",
        " "
      ],
      "execution_count": 59,
      "outputs": []
    },
    {
      "cell_type": "code",
      "metadata": {
        "id": "YMkCQPrfmPah",
        "colab_type": "code",
        "colab": {
          "base_uri": "https://localhost:8080/",
          "height": 711
        },
        "outputId": "ff689538-6a3f-48d8-8932-efc5e5d0b8d0"
      },
      "source": [
        "# train the model\n",
        "history_vgg = model.fit(aug.flow(X_train,y_train_ohe, batch_size=batch_sze),validation_data=(X_test,y_test_ohe), \n",
        "                              steps_per_epoch=len(X_train) // batch_sze,epochs=EPOCHS,callbacks=[es,mc])\n",
        "\n",
        "#We load the best weights saved by the ModelCheckpoint\n",
        "model.load_weights('./weights.h5')"
      ],
      "execution_count": 60,
      "outputs": [
        {
          "output_type": "stream",
          "text": [
            "Epoch 1/20\n",
            "781/781 [==============================] - 64s 81ms/step - loss: 1.5001 - accuracy: 0.4630 - val_loss: 0.8192 - val_accuracy: 0.7178\n",
            "Epoch 2/20\n",
            "781/781 [==============================] - 63s 81ms/step - loss: 0.9795 - accuracy: 0.6668 - val_loss: 0.7435 - val_accuracy: 0.7493\n",
            "Epoch 3/20\n",
            "781/781 [==============================] - 63s 81ms/step - loss: 0.8329 - accuracy: 0.7199 - val_loss: 0.6175 - val_accuracy: 0.7942\n",
            "Epoch 4/20\n",
            "781/781 [==============================] - 63s 81ms/step - loss: 0.7484 - accuracy: 0.7514 - val_loss: 0.5378 - val_accuracy: 0.8200\n",
            "Epoch 5/20\n",
            "781/781 [==============================] - 63s 80ms/step - loss: 0.6798 - accuracy: 0.7751 - val_loss: 0.6210 - val_accuracy: 0.7975\n",
            "Epoch 6/20\n",
            "781/781 [==============================] - 63s 81ms/step - loss: 0.6362 - accuracy: 0.7871 - val_loss: 0.5556 - val_accuracy: 0.8169\n",
            "Epoch 7/20\n",
            "781/781 [==============================] - 63s 81ms/step - loss: 0.5988 - accuracy: 0.8007 - val_loss: 0.5106 - val_accuracy: 0.8302\n",
            "Epoch 8/20\n",
            "781/781 [==============================] - 64s 81ms/step - loss: 0.5667 - accuracy: 0.8104 - val_loss: 0.4685 - val_accuracy: 0.8394\n",
            "Epoch 9/20\n",
            "781/781 [==============================] - 63s 81ms/step - loss: 0.5414 - accuracy: 0.8190 - val_loss: 0.4794 - val_accuracy: 0.8367\n",
            "Epoch 10/20\n",
            "781/781 [==============================] - 63s 81ms/step - loss: 0.5160 - accuracy: 0.8298 - val_loss: 0.4407 - val_accuracy: 0.8555\n",
            "Epoch 11/20\n",
            "781/781 [==============================] - 63s 81ms/step - loss: 0.5004 - accuracy: 0.8339 - val_loss: 0.5084 - val_accuracy: 0.8344\n",
            "Epoch 12/20\n",
            "781/781 [==============================] - 63s 81ms/step - loss: 0.4790 - accuracy: 0.8403 - val_loss: 0.4409 - val_accuracy: 0.8532\n",
            "Epoch 13/20\n",
            "781/781 [==============================] - 63s 81ms/step - loss: 0.4587 - accuracy: 0.8469 - val_loss: 0.4072 - val_accuracy: 0.8652\n",
            "Epoch 14/20\n",
            "781/781 [==============================] - 63s 81ms/step - loss: 0.4389 - accuracy: 0.8543 - val_loss: 0.4279 - val_accuracy: 0.8637\n",
            "Epoch 15/20\n",
            "781/781 [==============================] - 63s 81ms/step - loss: 0.4259 - accuracy: 0.8585 - val_loss: 0.4072 - val_accuracy: 0.8635\n",
            "Epoch 16/20\n",
            "781/781 [==============================] - 63s 81ms/step - loss: 0.4085 - accuracy: 0.8630 - val_loss: 0.4309 - val_accuracy: 0.8579\n",
            "Epoch 17/20\n",
            "781/781 [==============================] - 63s 80ms/step - loss: 0.4019 - accuracy: 0.8640 - val_loss: 0.3971 - val_accuracy: 0.8670\n",
            "Epoch 18/20\n",
            "781/781 [==============================] - 63s 81ms/step - loss: 0.3826 - accuracy: 0.8714 - val_loss: 0.3958 - val_accuracy: 0.8726\n",
            "Epoch 19/20\n",
            "781/781 [==============================] - 63s 81ms/step - loss: 0.3718 - accuracy: 0.8759 - val_loss: 0.4237 - val_accuracy: 0.8657\n",
            "Epoch 20/20\n",
            "781/781 [==============================] - 63s 81ms/step - loss: 0.3619 - accuracy: 0.8776 - val_loss: 0.4330 - val_accuracy: 0.8656\n"
          ],
          "name": "stdout"
        }
      ]
    },
    {
      "cell_type": "code",
      "metadata": {
        "id": "vg3QiZl0tfv1",
        "colab_type": "code",
        "colab": {
          "base_uri": "https://localhost:8080/",
          "height": 181
        },
        "outputId": "60013e1f-ca0c-4b9e-bd8f-6d0ff5eda56a"
      },
      "source": [
        "plt.subplot(211)\n",
        "plt.title('Cross Entropy Loss')\n",
        "plt.plot(history_vgg.history['loss'], color='blue', label='train')\n",
        "plt.plot(history_vgg.history['val_loss'], color='orange', label='test')\n"
      ],
      "execution_count": 62,
      "outputs": [
        {
          "output_type": "execute_result",
          "data": {
            "text/plain": [
              "[<matplotlib.lines.Line2D at 0x7f8f053cf7f0>]"
            ]
          },
          "metadata": {
            "tags": []
          },
          "execution_count": 62
        },
        {
          "output_type": "display_data",
          "data": {
            "image/png": "[encoded data removed]",
            "text/plain": [
              "<Figure size 432x288 with 1 Axes>"
            ]
          },
          "metadata": {
            "tags": [],
            "needs_background": "light"
          }
        }
      ]
    },
    {
      "cell_type": "code",
      "metadata": {
        "id": "KpTZ_O9gMqcI",
        "colab_type": "code",
        "colab": {
          "base_uri": "https://localhost:8080/",
          "height": 181
        },
        "outputId": "98dafb16-736e-44a6-f28c-49e5043e89af"
      },
      "source": [
        "\n",
        "plt.subplot(212)\n",
        "plt.title('Classification Accuracy')\n",
        "plt.plot(history_vgg.history['accuracy'], color='blue', label='train')\n",
        "plt.plot(history_vgg.history['val_accuracy'], color='orange', label='test')"
      ],
      "execution_count": 64,
      "outputs": [
        {
          "output_type": "execute_result",
          "data": {
            "text/plain": [
              "[<matplotlib.lines.Line2D at 0x7f8f0c1f3fd0>]"
            ]
          },
          "metadata": {
            "tags": []
          },
          "execution_count": 64
        },
        {
          "output_type": "display_data",
          "data": {
            "image/png": "[encoded data removed]",
            "text/plain": [
              "<Figure size 432x288 with 1 Axes>"
            ]
          },
          "metadata": {
            "tags": [],
            "needs_background": "light"
          }
        }
      ]
    },
    {
      "cell_type": "code",
      "metadata": {
        "id": "uedvHnL2mBxe",
        "colab_type": "code",
        "colab": {
          "base_uri": "https://localhost:8080/",
          "height": 139
        },
        "outputId": "7b2ac85e-1ebd-4d17-b804-4d31d71bcf5c"
      },
      "source": [
        "# PREDICT AND EVALUATE THE CNN ON THE TEST DATA\n",
        "\n",
        "preds = model.predict(X_test)\n",
        "score_test = accuracy_score( y_test, np.argmax(preds, axis=1) )\n",
        "print (' TEST Score : ', score_test)\n",
        "\n",
        "train_loss, train_score = model.evaluate(X_train, y_train_ohe)\n",
        "test_loss, test_score = model.evaluate(X_test, y_test_ohe)\n",
        "print(\"Train Loss:\", train_loss)\n",
        "print(\"Test Loss:\", test_loss)\n",
        "print(\"Train Score:\", train_score)\n",
        "print(\"Test Score:\", test_score)"
      ],
      "execution_count": 65,
      "outputs": [
        {
          "output_type": "stream",
          "text": [
            " TEST Score :  0.8726\n",
            "1563/1563 [==============================] - 26s 17ms/step - loss: 0.2478 - accuracy: 0.9158\n",
            "313/313 [==============================] - 5s 16ms/step - loss: 0.3958 - accuracy: 0.8726\n",
            "Train Loss: 0.24780631065368652\n",
            "Test Loss: 0.3958428204059601\n",
            "Train Score: 0.9158200025558472\n",
            "Test Score: 0.8726000189781189\n"
          ],
          "name": "stdout"
        }
      ]
    },
    {
      "cell_type": "code",
      "metadata": {
        "id": "BGeFDWCxoeHZ",
        "colab_type": "code",
        "colab": {}
      },
      "source": [
        ""
      ],
      "execution_count": 65,
      "outputs": []
    }
  ]
}